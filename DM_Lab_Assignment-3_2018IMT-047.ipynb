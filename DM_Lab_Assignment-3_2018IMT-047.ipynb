{
 "cells": [
  {
   "cell_type": "markdown",
   "id": "c9573767",
   "metadata": {},
   "source": [
    "\n",
    "# <center> Data Mining Lab Assigment - 3  <br />\n",
    "### Name - Kovid Gore\n",
    "### Roll No - 2018IMT-047"
   ]
  },
  {
   "cell_type": "markdown",
   "id": "18989a55",
   "metadata": {},
   "source": [
    "## Objective: <br />\n",
    "Write a program in C/C++ or python to create a rule based classifier using indirect method of classification. The program should take a labeled dataset as input. Use the following dataset in a ratio of 70:30 for training and data.\n",
    "\n",
    "\n",
    "Dataset: https://archive.ics.uci.edu/ml/datasets/HCV+data\n",
    "\n",
    "\n",
    "Compute accuracy, precision, recall, and F1-score also.\n"
   ]
  },
  {
   "cell_type": "code",
   "execution_count": 1,
   "id": "blocked-concert",
   "metadata": {},
   "outputs": [],
   "source": [
    "import pandas as pd\n",
    "import numpy as np\n",
    "import random as rnd\n",
    "from sklearn.metrics import accuracy_score, confusion_matrix\n",
    "from sklearn.model_selection import train_test_split"
   ]
  },
  {
   "cell_type": "code",
   "execution_count": 2,
   "id": "treated-wealth",
   "metadata": {},
   "outputs": [],
   "source": [
    "targetEntropy = 0"
   ]
  },
  {
   "cell_type": "raw",
   "id": "desperate-circus",
   "metadata": {},
   "source": [
    "C4.5 Algorithm (direct rule based classifier)"
   ]
  },
  {
   "cell_type": "code",
   "execution_count": 3,
   "id": "comparative-smoke",
   "metadata": {},
   "outputs": [],
   "source": [
    "class treeNode():\n",
    "    def __init__(self, col=-1, colName='', value=None, results=None, rb=None, lb=None):\n",
    "        self.col = col \n",
    "        self.colName = colName; #name of the column the node represents\n",
    "        self.value = value #value of the node\n",
    "        self.results = results #results that are stored in the node\n",
    "        self.rb = rb #the right children of the node\n",
    "        self.lb= lb #the left children of the node"
   ]
  },
  {
   "cell_type": "code",
   "execution_count": 4,
   "id": "advised-unknown",
   "metadata": {},
   "outputs": [],
   "source": [
    "def partitionData(dataFrame, test_percentage):\n",
    "    tot_index = range(len(dataFrame)) \n",
    "    test_indexes = rnd.sample(tot_index, int(test_percentage * len(dataFrame))) \n",
    "    train_indexes = list(set(tot_index) ^ set(test_indexes)) \n",
    "\n",
    "    # use the indexes generated to build up dataframes\n",
    "    test_df = dataFrame.loc[test_indexes]\n",
    "    train_df = dataFrame.loc[train_indexes]\n",
    "\n",
    "    return train_df, test_df"
   ]
  },
  {
   "cell_type": "code",
   "execution_count": 5,
   "id": "attached-relaxation",
   "metadata": {},
   "outputs": [],
   "source": [
    "def getUniqueClasses(dataFrameColumn):\n",
    "    results = {}\n",
    "    for row in dataFrameColumn:\n",
    "        if row not in results: results[row] = 0 # initialise element in dictionary if not already there\n",
    "        results[row] += 1 # increment value\n",
    "\n",
    "    return results"
   ]
  },
  {
   "cell_type": "code",
   "execution_count": 6,
   "id": "thorough-prairie",
   "metadata": {},
   "outputs": [],
   "source": [
    "def getEntropy(data, column):\n",
    "    entropy = 0.0\n",
    "    results = getUniqueClasses(data[column]) # get # of classes in data\n",
    "\n",
    "    for row in results.values():\n",
    "        p = float(row) / len(data[column]) # calculate probability value for each element in results\n",
    "        entropy -= p * np.log2(p) # calculate entropy\n",
    "\n",
    "    return entropy"
   ]
  },
  {
   "cell_type": "code",
   "execution_count": 7,
   "id": "registered-introduction",
   "metadata": {},
   "outputs": [],
   "source": [
    "def findSplitPoints(data, column):\n",
    "    sorted = data.sort_values([column], ascending=True)\n",
    "    sorted_matrix = sorted[[column, 'Category']].to_numpy()\n",
    "    splitPoints = []\n",
    "    previous = sorted_matrix[0][1] # get target of the first element in sorted matrix\n",
    "    index = sorted.index.values; # get the indexes of each  element in the sorted matrix\n",
    "    counter = 0\n",
    "    for row in sorted_matrix:\n",
    "        if row[1] != previous: \n",
    "            splitPoints.append([index[counter - 1], sorted_matrix[counter - 1][0]])\n",
    "        counter += 1\n",
    "        previous = row[1]\n",
    "\n",
    "    return splitPoints"
   ]
  },
  {
   "cell_type": "code",
   "execution_count": 8,
   "id": "behavioral-regular",
   "metadata": {},
   "outputs": [],
   "source": [
    "def splitSets(data, column, splitPoints):\n",
    "    sets_below = []\n",
    "    sets_above = []\n",
    "    # split the dataframe into 2 for each splitpoint\n",
    "    for i in range(len(splitPoints)):\n",
    "        df1 = data[data[column] <= data[column][splitPoints[i][0]]]  # everything below the splitpoint\n",
    "        df2 = data[data[column] > data[column][splitPoints[i][0]]]  # everything above it\n",
    "        # add to the lists\n",
    "        sets_below.append(df1)\n",
    "        sets_above.append(df2)\n",
    "\n",
    "    return sets_below, sets_above"
   ]
  },
  {
   "cell_type": "code",
   "execution_count": 9,
   "id": "secondary-gentleman",
   "metadata": {},
   "outputs": [],
   "source": [
    "def getInformationGain(data, column):\n",
    "    splitpoints = findSplitPoints(data, column)  # get splitpoints for this column\n",
    "    sets_below, sets_above = splitSets(data, column, splitpoints)  # split the data into sets based on these splitpoints\n",
    "    # lists to store the # of instances in each subset that are above and below each given threshold and their entropies\n",
    "    instances_above = []\n",
    "    instances_below = []\n",
    "    entropy_above = []\n",
    "    entropy_below = []\n",
    "    target_entropy = getEntropy(data, 'Category')  # get target entropy for the dataset\n",
    "    # get entropy for sets above and below each of the thresholds\n",
    "    for set in sets_below:\n",
    "        entropy_below.append(getEntropy(set, 'Category'))\n",
    "        instances_below.append(len(set))\n",
    "    for set in sets_above:\n",
    "        entropy_above.append(getEntropy(set, 'Category'))\n",
    "        instances_above.append(len(set))\n",
    "\n",
    "    totalInstances = []\n",
    "    infoGains = []\n",
    "    # work out the Information Gain for each threshold\n",
    "    for i in range(len(instances_below)):\n",
    "        totalInstances.append(instances_below[i] + instances_above[i])\n",
    "        probA = (instances_above[i] / float(totalInstances[i]))\n",
    "        probB = (instances_below[i] / float(totalInstances[i]))\n",
    "        infoGains.append(target_entropy - ((entropy_below[i] * probB) + (entropy_above[i] * probA)))\n",
    "\n",
    "    # work out the highest information gain for this column of the dataset\n",
    "    best_gain = i = counter = 0\n",
    "    for gain in infoGains:\n",
    "        if best_gain < gain:\n",
    "            best_gain = gain\n",
    "            counter = i # variable to hold the index in the list where the best gain occurs\n",
    "        i += 1\n",
    "\n",
    "    return best_gain, sets_below[counter], sets_above[counter], splitpoints[counter]"
   ]
  },
  {
   "cell_type": "code",
   "execution_count": 10,
   "id": "confirmed-acceptance",
   "metadata": {},
   "outputs": [],
   "source": [
    "def train(data):\n",
    "    optimal_gain = -1\n",
    "    best = {}\n",
    "    columns = []\n",
    "    i = 0\n",
    "\n",
    "    for column in data:  # loop over each attribute\n",
    "        if column != 'Category':\n",
    "            try:\n",
    "                ig, set1, set2, split = getInformationGain(data, column)  # get information gain for each column\n",
    "                # column holds information that is used when creating a tree node.\n",
    "                # the values in each of the columns will be used below when creating nodes for the tree\n",
    "                columns.append({\"ig\": ig, \"left\": set1, \"right\": set2, 'col': i, 'split': split,'colName': column}) \n",
    "\n",
    "            # above code will work until the set1 and set2 values that would be returned bu the information Gain function will be 0\n",
    "            # in that case, an indexError will be thrown as we cannot access element 0 of the sets lists\n",
    "            # so if we catch that exception we know this data should be used as a leaf node and can format the tree information accordingly\n",
    "            except IndexError:\n",
    "                columns.append({\"ig\": 0, \"left\": [], \"right\": [], 'col': column, })\n",
    "        i += 1  # counter to get int value for row(used for tree node)\n",
    "\n",
    "    # loops through each column and pulls out the one with the best information gain for the given data\n",
    "    for val in range(len(columns)):\n",
    "\n",
    "        if columns[val]['ig'] > optimal_gain:\n",
    "            best = columns[val]\n",
    "            optimal_gain = columns[val]['ig']\n",
    "\n",
    "    # get data for left branch and data for right branch\n",
    "    left = best['left']\n",
    "    right = best['right']\n",
    "    # check if we have data for the left and right branches of the tree\n",
    "    # if they are = 0 it is the stop condition for recursion, and the else block will generate a leaf node for the tree\n",
    "    if len(best['left']) != 0 and len(best['right']) != 0:\n",
    "        return (treeNode(col=best['col'], colName=best['colName'], value=best['split'][1], results=None,\n",
    "                              rb=train(right), lb=train(left)))\n",
    "\n",
    "    else:\n",
    "        label = list(getUniqueClasses(data['Category']).keys()); #get label for the leaf node\n",
    "        return (treeNode(results=label[0]))"
   ]
  },
  {
   "cell_type": "code",
   "execution_count": 11,
   "id": "laughing-convenience",
   "metadata": {},
   "outputs": [],
   "source": [
    "def classify(target_row, tree):\n",
    "    # base case to stop recursion -> we are at a leaf node\n",
    "    if tree.results != None:\n",
    "        return tree.results\n",
    "\n",
    "    else:\n",
    "        # gets the attribute from the target row that we are looking at\n",
    "        val = target_row[tree.col]\n",
    "        branch = None\n",
    "        if isinstance(val, int) or isinstance(val, float):\n",
    "            # checks the value of the tree against the value of the attribute from the target row\n",
    "            # go down right side\n",
    "            if val >= tree.value:\n",
    "                branch = tree.rb\n",
    "            # go down left side\n",
    "            else:\n",
    "                branch = tree.lb\n",
    "        # recur over the tree again, using either the left or right branch to determine where to go next\n",
    "        return classify(target_row, branch)\n"
   ]
  },
  {
   "cell_type": "code",
   "execution_count": 12,
   "id": "korean-prospect",
   "metadata": {},
   "outputs": [],
   "source": [
    "def printTree(tree, space=''):\n",
    "    # Leaf node\n",
    "    if tree.results != None:\n",
    "        print(str(tree.results))\n",
    "\n",
    "    else:\n",
    "        print(str(tree.colName) + ' : ' + str(tree.value)) #name and splitpoint of current node\n",
    "        print(space + 'L ', end=\"\") #Print 'L' for left child\n",
    "        printTree(tree.lb, space + ' ') #Print left child\n",
    "        print(space + 'R ', end=\"\") #Print 'R' for right child\n",
    "        printTree(tree.rb, space + ' ') #Print right child"
   ]
  },
  {
   "cell_type": "code",
   "execution_count": 13,
   "id": "critical-token",
   "metadata": {},
   "outputs": [],
   "source": [
    "values = []\n",
    "def test_tree(data, labels, tree):\n",
    "   \n",
    "    # Loop over each row in test data frame and get the classification result for each index\n",
    "    for index, row in data.iterrows():\n",
    "        values.append([index, classify(row, tree)])\n",
    "\n",
    "    # Get the indexes from the test dataframe where each type occurs\n",
    "    indexes = labels.index.values\n",
    "    correct = incorrect = 0\n",
    "    # Loop over values list and compare the class that was classified by the tree\n",
    "    # and the class that was originally in the dataframe\n",
    "    for l in range(len(values)):\n",
    "        if values[l][0] == indexes[l] and values[l][1] == labels[indexes[l]]:\n",
    "            correct += 1 #increment the correctly classified #\n",
    "        else:\n",
    "            incorrect += 1 #increment the incorrectly classified #\n",
    "\n",
    "    return incorrect, correct, np.round(100 - (incorrect / (incorrect + correct)) * 100)"
   ]
  },
  {
   "cell_type": "code",
   "execution_count": 33,
   "id": "mathematical-arizona",
   "metadata": {},
   "outputs": [],
   "source": [
    "dataSet = pd.read_csv('hcvdat0.csv')"
   ]
  },
  {
   "cell_type": "code",
   "execution_count": 15,
   "id": "effective-fiber",
   "metadata": {},
   "outputs": [
    {
     "data": {
      "text/plain": [
       "Unnamed: 0     0\n",
       "Category       0\n",
       "Age            0\n",
       "Sex            0\n",
       "ALB            1\n",
       "ALP           18\n",
       "ALT            1\n",
       "AST            0\n",
       "BIL            0\n",
       "CHE            0\n",
       "CHOL          10\n",
       "CREA           0\n",
       "GGT            0\n",
       "PROT           1\n",
       "dtype: int64"
      ]
     },
     "execution_count": 15,
     "metadata": {},
     "output_type": "execute_result"
    }
   ],
   "source": [
    "dataSet.isnull().sum()"
   ]
  },
  {
   "cell_type": "code",
   "execution_count": 16,
   "id": "sporting-opposition",
   "metadata": {},
   "outputs": [],
   "source": [
    "dataSet.drop('Unnamed: 0',axis='columns',inplace=True)"
   ]
  },
  {
   "cell_type": "code",
   "execution_count": 17,
   "id": "laughing-scene",
   "metadata": {},
   "outputs": [],
   "source": [
    "dataSet.dropna(inplace=True)"
   ]
  },
  {
   "cell_type": "code",
   "execution_count": 18,
   "id": "thermal-johnston",
   "metadata": {},
   "outputs": [
    {
     "data": {
      "text/html": [
       "<div>\n",
       "<style scoped>\n",
       "    .dataframe tbody tr th:only-of-type {\n",
       "        vertical-align: middle;\n",
       "    }\n",
       "\n",
       "    .dataframe tbody tr th {\n",
       "        vertical-align: top;\n",
       "    }\n",
       "\n",
       "    .dataframe thead th {\n",
       "        text-align: right;\n",
       "    }\n",
       "</style>\n",
       "<table border=\"1\" class=\"dataframe\">\n",
       "  <thead>\n",
       "    <tr style=\"text-align: right;\">\n",
       "      <th></th>\n",
       "      <th>Category</th>\n",
       "      <th>Age</th>\n",
       "      <th>Sex</th>\n",
       "      <th>ALB</th>\n",
       "      <th>ALP</th>\n",
       "      <th>ALT</th>\n",
       "      <th>AST</th>\n",
       "      <th>BIL</th>\n",
       "      <th>CHE</th>\n",
       "      <th>CHOL</th>\n",
       "      <th>CREA</th>\n",
       "      <th>GGT</th>\n",
       "      <th>PROT</th>\n",
       "    </tr>\n",
       "  </thead>\n",
       "  <tbody>\n",
       "    <tr>\n",
       "      <th>0</th>\n",
       "      <td>0=Blood Donor</td>\n",
       "      <td>32</td>\n",
       "      <td>m</td>\n",
       "      <td>38.5</td>\n",
       "      <td>52.5</td>\n",
       "      <td>7.7</td>\n",
       "      <td>22.1</td>\n",
       "      <td>7.5</td>\n",
       "      <td>6.93</td>\n",
       "      <td>3.23</td>\n",
       "      <td>106.0</td>\n",
       "      <td>12.1</td>\n",
       "      <td>69.0</td>\n",
       "    </tr>\n",
       "    <tr>\n",
       "      <th>1</th>\n",
       "      <td>0=Blood Donor</td>\n",
       "      <td>32</td>\n",
       "      <td>m</td>\n",
       "      <td>38.5</td>\n",
       "      <td>70.3</td>\n",
       "      <td>18.0</td>\n",
       "      <td>24.7</td>\n",
       "      <td>3.9</td>\n",
       "      <td>11.17</td>\n",
       "      <td>4.80</td>\n",
       "      <td>74.0</td>\n",
       "      <td>15.6</td>\n",
       "      <td>76.5</td>\n",
       "    </tr>\n",
       "    <tr>\n",
       "      <th>2</th>\n",
       "      <td>0=Blood Donor</td>\n",
       "      <td>32</td>\n",
       "      <td>m</td>\n",
       "      <td>46.9</td>\n",
       "      <td>74.7</td>\n",
       "      <td>36.2</td>\n",
       "      <td>52.6</td>\n",
       "      <td>6.1</td>\n",
       "      <td>8.84</td>\n",
       "      <td>5.20</td>\n",
       "      <td>86.0</td>\n",
       "      <td>33.2</td>\n",
       "      <td>79.3</td>\n",
       "    </tr>\n",
       "    <tr>\n",
       "      <th>3</th>\n",
       "      <td>0=Blood Donor</td>\n",
       "      <td>32</td>\n",
       "      <td>m</td>\n",
       "      <td>43.2</td>\n",
       "      <td>52.0</td>\n",
       "      <td>30.6</td>\n",
       "      <td>22.6</td>\n",
       "      <td>18.9</td>\n",
       "      <td>7.33</td>\n",
       "      <td>4.74</td>\n",
       "      <td>80.0</td>\n",
       "      <td>33.8</td>\n",
       "      <td>75.7</td>\n",
       "    </tr>\n",
       "    <tr>\n",
       "      <th>4</th>\n",
       "      <td>0=Blood Donor</td>\n",
       "      <td>32</td>\n",
       "      <td>m</td>\n",
       "      <td>39.2</td>\n",
       "      <td>74.1</td>\n",
       "      <td>32.6</td>\n",
       "      <td>24.8</td>\n",
       "      <td>9.6</td>\n",
       "      <td>9.15</td>\n",
       "      <td>4.32</td>\n",
       "      <td>76.0</td>\n",
       "      <td>29.9</td>\n",
       "      <td>68.7</td>\n",
       "    </tr>\n",
       "  </tbody>\n",
       "</table>\n",
       "</div>"
      ],
      "text/plain": [
       "        Category  Age Sex   ALB   ALP   ALT   AST   BIL    CHE  CHOL   CREA  \\\n",
       "0  0=Blood Donor   32   m  38.5  52.5   7.7  22.1   7.5   6.93  3.23  106.0   \n",
       "1  0=Blood Donor   32   m  38.5  70.3  18.0  24.7   3.9  11.17  4.80   74.0   \n",
       "2  0=Blood Donor   32   m  46.9  74.7  36.2  52.6   6.1   8.84  5.20   86.0   \n",
       "3  0=Blood Donor   32   m  43.2  52.0  30.6  22.6  18.9   7.33  4.74   80.0   \n",
       "4  0=Blood Donor   32   m  39.2  74.1  32.6  24.8   9.6   9.15  4.32   76.0   \n",
       "\n",
       "    GGT  PROT  \n",
       "0  12.1  69.0  \n",
       "1  15.6  76.5  \n",
       "2  33.2  79.3  \n",
       "3  33.8  75.7  \n",
       "4  29.9  68.7  "
      ]
     },
     "execution_count": 18,
     "metadata": {},
     "output_type": "execute_result"
    }
   ],
   "source": [
    "dataSet.head()"
   ]
  },
  {
   "cell_type": "code",
   "execution_count": 19,
   "id": "altered-magnet",
   "metadata": {},
   "outputs": [],
   "source": [
    "df=dataSet.Sex.map({'m':0,'f':1})"
   ]
  },
  {
   "cell_type": "code",
   "execution_count": 20,
   "id": "noted-civilian",
   "metadata": {},
   "outputs": [
    {
     "data": {
      "text/plain": [
       "589"
      ]
     },
     "execution_count": 20,
     "metadata": {},
     "output_type": "execute_result"
    }
   ],
   "source": [
    "df.count()"
   ]
  },
  {
   "cell_type": "code",
   "execution_count": 21,
   "id": "every-retreat",
   "metadata": {},
   "outputs": [
    {
     "data": {
      "text/plain": [
       "Category    0\n",
       "Age         0\n",
       "Sex         0\n",
       "ALB         0\n",
       "ALP         0\n",
       "ALT         0\n",
       "AST         0\n",
       "BIL         0\n",
       "CHE         0\n",
       "CHOL        0\n",
       "CREA        0\n",
       "GGT         0\n",
       "PROT        0\n",
       "dtype: int64"
      ]
     },
     "execution_count": 21,
     "metadata": {},
     "output_type": "execute_result"
    }
   ],
   "source": [
    "dataSet.isnull().sum()"
   ]
  },
  {
   "cell_type": "code",
   "execution_count": 22,
   "id": "faced-orientation",
   "metadata": {},
   "outputs": [
    {
     "name": "stdout",
     "output_type": "stream",
     "text": [
      "<class 'pandas.core.frame.DataFrame'>\n",
      "Int64Index: 589 entries, 0 to 612\n",
      "Data columns (total 13 columns):\n",
      " #   Column    Non-Null Count  Dtype  \n",
      "---  ------    --------------  -----  \n",
      " 0   Category  589 non-null    object \n",
      " 1   Age       589 non-null    int64  \n",
      " 2   Sex       589 non-null    object \n",
      " 3   ALB       589 non-null    float64\n",
      " 4   ALP       589 non-null    float64\n",
      " 5   ALT       589 non-null    float64\n",
      " 6   AST       589 non-null    float64\n",
      " 7   BIL       589 non-null    float64\n",
      " 8   CHE       589 non-null    float64\n",
      " 9   CHOL      589 non-null    float64\n",
      " 10  CREA      589 non-null    float64\n",
      " 11  GGT       589 non-null    float64\n",
      " 12  PROT      589 non-null    float64\n",
      "dtypes: float64(10), int64(1), object(2)\n",
      "memory usage: 64.4+ KB\n"
     ]
    }
   ],
   "source": [
    "dataSet.info()"
   ]
  },
  {
   "cell_type": "code",
   "execution_count": 23,
   "id": "advised-perth",
   "metadata": {},
   "outputs": [
    {
     "data": {
      "text/plain": [
       "array(['0=Blood Donor', '0s=suspect Blood Donor', '1=Hepatitis',\n",
       "       '2=Fibrosis', '3=Cirrhosis'], dtype=object)"
      ]
     },
     "execution_count": 23,
     "metadata": {},
     "output_type": "execute_result"
    }
   ],
   "source": [
    "dataSet.Category.unique()"
   ]
  },
  {
   "cell_type": "code",
   "execution_count": 24,
   "id": "precise-friendship",
   "metadata": {},
   "outputs": [],
   "source": [
    "df1=dataSet.Category.map({'0=Blood Donor':1,'0s=suspect Blood Donor':2,'1=Hepatitis':3,'2=Fibrosis':4,'3=Cirrhosis':5})"
   ]
  },
  {
   "cell_type": "code",
   "execution_count": 25,
   "id": "another-guarantee",
   "metadata": {},
   "outputs": [
    {
     "data": {
      "text/plain": [
       "589"
      ]
     },
     "execution_count": 25,
     "metadata": {},
     "output_type": "execute_result"
    }
   ],
   "source": [
    "df1.count()"
   ]
  },
  {
   "cell_type": "code",
   "execution_count": 26,
   "id": "superb-firmware",
   "metadata": {},
   "outputs": [
    {
     "data": {
      "text/html": [
       "<div>\n",
       "<style scoped>\n",
       "    .dataframe tbody tr th:only-of-type {\n",
       "        vertical-align: middle;\n",
       "    }\n",
       "\n",
       "    .dataframe tbody tr th {\n",
       "        vertical-align: top;\n",
       "    }\n",
       "\n",
       "    .dataframe thead th {\n",
       "        text-align: right;\n",
       "    }\n",
       "</style>\n",
       "<table border=\"1\" class=\"dataframe\">\n",
       "  <thead>\n",
       "    <tr style=\"text-align: right;\">\n",
       "      <th></th>\n",
       "      <th>Category</th>\n",
       "      <th>Age</th>\n",
       "      <th>Sex</th>\n",
       "      <th>ALB</th>\n",
       "      <th>ALP</th>\n",
       "      <th>ALT</th>\n",
       "      <th>AST</th>\n",
       "      <th>BIL</th>\n",
       "      <th>CHE</th>\n",
       "      <th>CHOL</th>\n",
       "      <th>CREA</th>\n",
       "      <th>GGT</th>\n",
       "      <th>PROT</th>\n",
       "    </tr>\n",
       "  </thead>\n",
       "  <tbody>\n",
       "    <tr>\n",
       "      <th>0</th>\n",
       "      <td>0=Blood Donor</td>\n",
       "      <td>32</td>\n",
       "      <td>m</td>\n",
       "      <td>38.5</td>\n",
       "      <td>52.5</td>\n",
       "      <td>7.7</td>\n",
       "      <td>22.1</td>\n",
       "      <td>7.5</td>\n",
       "      <td>6.93</td>\n",
       "      <td>3.23</td>\n",
       "      <td>106.0</td>\n",
       "      <td>12.1</td>\n",
       "      <td>69.0</td>\n",
       "    </tr>\n",
       "    <tr>\n",
       "      <th>1</th>\n",
       "      <td>0=Blood Donor</td>\n",
       "      <td>32</td>\n",
       "      <td>m</td>\n",
       "      <td>38.5</td>\n",
       "      <td>70.3</td>\n",
       "      <td>18.0</td>\n",
       "      <td>24.7</td>\n",
       "      <td>3.9</td>\n",
       "      <td>11.17</td>\n",
       "      <td>4.80</td>\n",
       "      <td>74.0</td>\n",
       "      <td>15.6</td>\n",
       "      <td>76.5</td>\n",
       "    </tr>\n",
       "    <tr>\n",
       "      <th>2</th>\n",
       "      <td>0=Blood Donor</td>\n",
       "      <td>32</td>\n",
       "      <td>m</td>\n",
       "      <td>46.9</td>\n",
       "      <td>74.7</td>\n",
       "      <td>36.2</td>\n",
       "      <td>52.6</td>\n",
       "      <td>6.1</td>\n",
       "      <td>8.84</td>\n",
       "      <td>5.20</td>\n",
       "      <td>86.0</td>\n",
       "      <td>33.2</td>\n",
       "      <td>79.3</td>\n",
       "    </tr>\n",
       "    <tr>\n",
       "      <th>3</th>\n",
       "      <td>0=Blood Donor</td>\n",
       "      <td>32</td>\n",
       "      <td>m</td>\n",
       "      <td>43.2</td>\n",
       "      <td>52.0</td>\n",
       "      <td>30.6</td>\n",
       "      <td>22.6</td>\n",
       "      <td>18.9</td>\n",
       "      <td>7.33</td>\n",
       "      <td>4.74</td>\n",
       "      <td>80.0</td>\n",
       "      <td>33.8</td>\n",
       "      <td>75.7</td>\n",
       "    </tr>\n",
       "    <tr>\n",
       "      <th>4</th>\n",
       "      <td>0=Blood Donor</td>\n",
       "      <td>32</td>\n",
       "      <td>m</td>\n",
       "      <td>39.2</td>\n",
       "      <td>74.1</td>\n",
       "      <td>32.6</td>\n",
       "      <td>24.8</td>\n",
       "      <td>9.6</td>\n",
       "      <td>9.15</td>\n",
       "      <td>4.32</td>\n",
       "      <td>76.0</td>\n",
       "      <td>29.9</td>\n",
       "      <td>68.7</td>\n",
       "    </tr>\n",
       "  </tbody>\n",
       "</table>\n",
       "</div>"
      ],
      "text/plain": [
       "        Category  Age Sex   ALB   ALP   ALT   AST   BIL    CHE  CHOL   CREA  \\\n",
       "0  0=Blood Donor   32   m  38.5  52.5   7.7  22.1   7.5   6.93  3.23  106.0   \n",
       "1  0=Blood Donor   32   m  38.5  70.3  18.0  24.7   3.9  11.17  4.80   74.0   \n",
       "2  0=Blood Donor   32   m  46.9  74.7  36.2  52.6   6.1   8.84  5.20   86.0   \n",
       "3  0=Blood Donor   32   m  43.2  52.0  30.6  22.6  18.9   7.33  4.74   80.0   \n",
       "4  0=Blood Donor   32   m  39.2  74.1  32.6  24.8   9.6   9.15  4.32   76.0   \n",
       "\n",
       "    GGT  PROT  \n",
       "0  12.1  69.0  \n",
       "1  15.6  76.5  \n",
       "2  33.2  79.3  \n",
       "3  33.8  75.7  \n",
       "4  29.9  68.7  "
      ]
     },
     "execution_count": 26,
     "metadata": {},
     "output_type": "execute_result"
    }
   ],
   "source": [
    "dataSet.head()"
   ]
  },
  {
   "cell_type": "code",
   "execution_count": 27,
   "id": "julian-brass",
   "metadata": {},
   "outputs": [],
   "source": [
    "dataSet.drop('Sex',axis='columns',inplace=True)"
   ]
  },
  {
   "cell_type": "code",
   "execution_count": 28,
   "id": "bearing-planning",
   "metadata": {},
   "outputs": [],
   "source": [
    "dataSet.drop('Category',axis='columns',inplace=True)"
   ]
  },
  {
   "cell_type": "code",
   "execution_count": 29,
   "id": "conscious-induction",
   "metadata": {},
   "outputs": [],
   "source": [
    "dataSet=pd.concat([df,dataSet,df1],axis=1)"
   ]
  },
  {
   "cell_type": "code",
   "execution_count": 30,
   "id": "viral-modification",
   "metadata": {},
   "outputs": [
    {
     "name": "stdout",
     "output_type": "stream",
     "text": [
      "<class 'pandas.core.frame.DataFrame'>\n",
      "Int64Index: 589 entries, 0 to 612\n",
      "Data columns (total 13 columns):\n",
      " #   Column    Non-Null Count  Dtype  \n",
      "---  ------    --------------  -----  \n",
      " 0   Sex       589 non-null    int64  \n",
      " 1   Age       589 non-null    int64  \n",
      " 2   ALB       589 non-null    float64\n",
      " 3   ALP       589 non-null    float64\n",
      " 4   ALT       589 non-null    float64\n",
      " 5   AST       589 non-null    float64\n",
      " 6   BIL       589 non-null    float64\n",
      " 7   CHE       589 non-null    float64\n",
      " 8   CHOL      589 non-null    float64\n",
      " 9   CREA      589 non-null    float64\n",
      " 10  GGT       589 non-null    float64\n",
      " 11  PROT      589 non-null    float64\n",
      " 12  Category  589 non-null    int64  \n",
      "dtypes: float64(10), int64(3)\n",
      "memory usage: 64.4 KB\n"
     ]
    }
   ],
   "source": [
    "dataSet.info()"
   ]
  },
  {
   "cell_type": "code",
   "execution_count": 31,
   "id": "under-gilbert",
   "metadata": {},
   "outputs": [
    {
     "data": {
      "text/plain": [
       "Sex         0\n",
       "Age         0\n",
       "ALB         0\n",
       "ALP         0\n",
       "ALT         0\n",
       "AST         0\n",
       "BIL         0\n",
       "CHE         0\n",
       "CHOL        0\n",
       "CREA        0\n",
       "GGT         0\n",
       "PROT        0\n",
       "Category    0\n",
       "dtype: int64"
      ]
     },
     "execution_count": 31,
     "metadata": {},
     "output_type": "execute_result"
    }
   ],
   "source": [
    "dataSet.isnull().sum()"
   ]
  },
  {
   "cell_type": "code",
   "execution_count": 32,
   "id": "billion-catering",
   "metadata": {},
   "outputs": [
    {
     "name": "stdout",
     "output_type": "stream",
     "text": [
      "Tree Generated:\n",
      "\n",
      "AST : 52.6\n",
      "L ALT : 10.5\n",
      " L AST : 20.0\n",
      "  L ALP : 29.6\n",
      "   L 3\n",
      "   R 1\n",
      "  R ALT : 4.8\n",
      "   L 5\n",
      "   R Age : 41\n",
      "    L 3\n",
      "    R 4\n",
      " R ALB : 24.9\n",
      "  L 2\n",
      "  R AST : 38.9\n",
      "   L 1\n",
      "   R ALT : 13.3\n",
      "    L 3\n",
      "    R 1\n",
      "R CHE : 6.26\n",
      " L ALT : 29.6\n",
      "  L CHE : 5.57\n",
      "   L 5\n",
      "   R Sex : 0\n",
      "    L 3\n",
      "    R 5\n",
      "  R Age : 58\n",
      "   L 1\n",
      "   R 2\n",
      " R CHE : 9.64\n",
      "  L GGT : 21.6\n",
      "   L 1\n",
      "   R ALP : 34.4\n",
      "    L ALT : 23.1\n",
      "     L 4\n",
      "     R 3\n",
      "    R 4\n",
      "  R Age : 41\n",
      "   L 3\n",
      "   R 2\n",
      "\n",
      "Correctly Classified: 164 / 177\n",
      "Accuracy: 93.0\n",
      "\n",
      "Average Accuracy after 1 runs\n",
      "93.0\n",
      "19     1\n",
      "408    1\n",
      "127    1\n",
      "138    1\n",
      "366    1\n",
      "      ..\n",
      "446    1\n",
      "197    1\n",
      "195    1\n",
      "414    1\n",
      "37     1\n",
      "Name: Category, Length: 177, dtype: int64\n",
      "0      1\n",
      "1      1\n",
      "2      1\n",
      "3      1\n",
      "4      1\n",
      "      ..\n",
      "172    1\n",
      "173    1\n",
      "174    1\n",
      "175    1\n",
      "176    1\n",
      "Name: pred_Target, Length: 177, dtype: int64\n",
      "[[158   0   2   3   0]\n",
      " [  1   1   0   0   0]\n",
      " [  2   1   1   2   0]\n",
      " [  0   0   1   2   0]\n",
      " [  1   0   0   0   2]]\n",
      "Accuracy: 92.65536723163842\n",
      "              precision    recall  f1-score   support\n",
      "\n",
      "           1       0.98      0.97      0.97       163\n",
      "           2       0.50      0.50      0.50         2\n",
      "           3       0.25      0.17      0.20         6\n",
      "           4       0.29      0.67      0.40         3\n",
      "           5       1.00      0.67      0.80         3\n",
      "\n",
      "    accuracy                           0.93       177\n",
      "   macro avg       0.60      0.59      0.57       177\n",
      "weighted avg       0.93      0.93      0.93       177\n",
      "\n"
     ]
    }
   ],
   "source": [
    "results = [];\n",
    "tests = 1 \n",
    "train_data, test_data = train_test_split(dataSet, test_size=0.3)\n",
    "tree = train(train_data) # make tree\n",
    "types = test_data['Category'] # get types column from test_data\n",
    "        \n",
    "\n",
    "incorrect, correct, accuracy = test_tree(test_data, types, tree) # test the tree\n",
    "results.append(accuracy)\n",
    "\n",
    "        # print information to console\n",
    "\n",
    "print(\"Tree Generated:\" + \"\\n\")\n",
    "printTree(tree)\n",
    "print()\n",
    "print(\"Correctly Classified: \" + str(correct) + \" / \" + str(correct+incorrect))\n",
    "print(\"Accuracy: \" + str(accuracy))\n",
    "print()\n",
    "\n",
    "sum = 0\n",
    "for r in range(len(results)):\n",
    "    sum += results[r]\n",
    "average = sum/tests\n",
    "\n",
    "print(\"Average Accuracy after \" + str(tests) + \" runs\")\n",
    "print(average)\n",
    "    #test_start\n",
    "    \n",
    "y_test=types\n",
    "print(y_test)\n",
    "    \n",
    "vp=values\n",
    "from pandas import DataFrame\n",
    "df = DataFrame(values,columns=['index','pred_Target'])\n",
    "app=df['pred_Target']\n",
    "y_pred = app\n",
    "print(y_pred)\n",
    "\n",
    "from sklearn.metrics import classification_report, confusion_matrix,accuracy_score\n",
    "print(confusion_matrix(y_test, y_pred))\n",
    "print(\"Accuracy:\",accuracy_score(y_test,y_pred)*100)\n",
    "print(classification_report(y_test, y_pred))\n"
   ]
  },
  {
   "cell_type": "code",
   "execution_count": null,
   "id": "certain-webcam",
   "metadata": {},
   "outputs": [],
   "source": []
  }
 ],
 "metadata": {
  "kernelspec": {
   "display_name": "Python 3 (ipykernel)",
   "language": "python",
   "name": "python3"
  },
  "language_info": {
   "codemirror_mode": {
    "name": "ipython",
    "version": 3
   },
   "file_extension": ".py",
   "mimetype": "text/x-python",
   "name": "python",
   "nbconvert_exporter": "python",
   "pygments_lexer": "ipython3",
   "version": "3.8.10"
  }
 },
 "nbformat": 4,
 "nbformat_minor": 5
}
