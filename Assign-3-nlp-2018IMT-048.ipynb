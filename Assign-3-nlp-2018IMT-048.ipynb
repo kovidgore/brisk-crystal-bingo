{
 "cells": [
  {
   "cell_type": "markdown",
   "metadata": {},
   "source": [
    "## Kovid Gore\n",
    "## 2018IMT-047 "
   ]
  },
  {
   "cell_type": "code",
   "execution_count": 8,
   "metadata": {},
   "outputs": [
    {
     "name": "stdout",
     "output_type": "stream",
     "text": [
      "3\n"
     ]
    }
   ],
   "source": [
    "str1 = \"thursday\"\n",
    "str2 = \"tuesday\"\n",
    "m = len(str1)\n",
    "n = len(str2)\n",
    "\n",
    "dp = [[0 for x in range(n + 1)] for x in range(m + 1)]\n",
    "\n",
    "for i in range(m + 1):\n",
    "    for j in range(n + 1):\n",
    "            \n",
    "            if i == 0:\n",
    "                dp[i][j] = j\n",
    "            \n",
    "            elif j == 0:\n",
    "                dp[i][j] = i \n",
    "            \n",
    "            else:\n",
    "                t1 = 1 + dp[i][j-1]\n",
    "                t2 = 1 + dp[i-1][j]\n",
    "                t3 = dp[i-1][j-1] if str1[i-1] == str2[j-1] else 2 + dp[i-1][j-1]\n",
    "                dp[i][j] = min(t1, t2, t3)\n",
    "    \n",
    "\n",
    "print(dp[m][n])"
   ]
  },
  {
   "cell_type": "code",
   "execution_count": null,
   "metadata": {},
   "outputs": [],
   "source": []
  }
 ],
 "metadata": {
  "kernelspec": {
   "display_name": "Python 3",
   "language": "python",
   "name": "python3"
  },
  "language_info": {
   "codemirror_mode": {
    "name": "ipython",
    "version": 3
   },
   "file_extension": ".py",
   "mimetype": "text/x-python",
   "name": "python",
   "nbconvert_exporter": "python",
   "pygments_lexer": "ipython3",
   "version": "3.7.4"
  }
 },
 "nbformat": 4,
 "nbformat_minor": 2
}
